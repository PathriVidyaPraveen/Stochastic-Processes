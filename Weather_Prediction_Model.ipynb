{
  "nbformat": 4,
  "nbformat_minor": 0,
  "metadata": {
    "colab": {
      "provenance": []
    },
    "kernelspec": {
      "name": "python3",
      "display_name": "Python 3"
    },
    "language_info": {
      "name": "python"
    }
  },
  "cells": [
    {
      "cell_type": "markdown",
      "source": [
        "Problem 1: Weather Prediction Model\n",
        "Consider a simple weather model with three states:\n",
        "Sunny (S), Cloudy (C), Rainy (R).\n",
        "The transition probability matrix is given by:\n",
        "P =\n",
        "[\n",
        "[\n",
        "0.7 0.2 0.1],[\n",
        "0.3 0.4 0.3],[\n",
        "0.2 0.3 0.5\n",
        "]\n",
        "]\n",
        "1. Generate a sample path. Simulate and plot the weather over n = 365 days, starting\n",
        "from an initial distribution (e.g., start with Sunny on Day 1, i.e., π(1) = [1 0 0]).\n",
        "2. Empirical long term distribution. Starting with the initial distribution π(1) = [1 0 0],\n",
        "estimate the empirical long-term fraction of Sunny, Cloudy, and Rainy days based on\n",
        "your simulation. (Generate 106 sample paths of n = 25 days and compute the empirical\n",
        "relative frequency of the various states on the 25th day).\n",
        "3. Stationary Distribution. Compute the stationary distribution π by solving\n",
        "πP = π,\n",
        "X3\n",
        "i=1\n",
        "πi = 1.\n",
        "4. Comparison of empirical and theoretical long term behaviour.\n",
        "Find the least number of days (n) for which the empirical distribution converges (the\n",
        "absolute error is < 10−10) to the theoretical stationary distribution.\n",
        "5. Repeat for different initial distributions. Repeat steps 2 to 4 with the initial distributions\n",
        "π(1) = [ 1\n",
        "3\n",
        "1\n",
        "3\n",
        "1\n",
        "3 ] and π(1) = [0.5 0.25 0.25]."
      ],
      "metadata": {
        "id": "6JpAtPLFLwL9"
      }
    },
    {
      "cell_type": "code",
      "execution_count": 1,
      "metadata": {
        "id": "6of4TQyqLhr2"
      },
      "outputs": [],
      "source": [
        "import numpy as np\n",
        "import matplotlib.pyplot as plt\n"
      ]
    },
    {
      "cell_type": "code",
      "source": [
        "states = [\"Sunny\" , \"Cloudy\" , \"Rainy\"]\n",
        "P = np.array([[0.7,0.2,0.1],[0.3,0.4,0.3],[0.2,0.3,0.5]])\n"
      ],
      "metadata": {
        "id": "0OjpxPjPMKbE"
      },
      "execution_count": 2,
      "outputs": []
    },
    {
      "cell_type": "code",
      "source": [
        "# 1. Generate a sample path.\n",
        "\n",
        "def generate_sample_path(P , n_days , initial_state=0):\n",
        "  path = [initial_state]\n",
        "  for _ in range(n_days-1):\n",
        "    current_state = path[-1]\n",
        "    next_state = np.random.choice([0,1,2],p=P[current_state])\n",
        "    path.append(next_state)\n",
        "\n",
        "  return np.array(path)\n",
        "\n",
        "np.random.seed(42)\n",
        "sample_path = generate_sample_path(P , 365 , initial_state=0)\n",
        "\n",
        "# Plot the weather path\n",
        "\n",
        "plt.figure(figsize=(12,6))\n",
        "plt.plot(sample_path,drawstyle='steps-pre')\n",
        "plt.yticks([0,1,2],states)\n",
        "plt.xlabel(\"Day\")\n",
        "plt.ylabel(\"Weather State\")\n",
        "plt.title(\"Weather over 365 Days (Sample Path)\")\n",
        "plt.show()\n"
      ],
      "metadata": {
        "colab": {
          "base_uri": "https://localhost:8080/",
          "height": 564
        },
        "id": "ix0eMNnhMuk_",
        "outputId": "dc2a7529-4173-47c3-e583-fd5dae351c09"
      },
      "execution_count": 3,
      "outputs": [
        {
          "output_type": "display_data",
          "data": {
            "text/plain": [
              "<Figure size 1200x600 with 1 Axes>"
            ],
            "image/png": "[encoded data removed]"
          },
          "metadata": {}
        }
      ]
    },
    {
      "cell_type": "code",
      "source": [
        "# 2. Empirical long term distribution.\n",
        "\n",
        "def empirical_long_term_distribution(P , n_paths , n_days , initial_dist):\n",
        "  counts = np.zeros(3)\n",
        "  for _ in range(n_paths):\n",
        "    # sample initial state according to initial distribution\n",
        "    state = np.random.choice([0,1,2],p=initial_dist)\n",
        "    for _ in range(n_days-1):\n",
        "      state = np.random.choice([0,1,2],p=P[state])\n",
        "    counts[state]+=1\n",
        "\n",
        "  return counts/n_paths\n",
        "\n",
        "\n",
        "empirical_dist = empirical_long_term_distribution(P, n_paths=1000, n_days=25, initial_dist=[1, 0, 0]) # Tweak n_paths to 10^6 (slow)\n",
        "print(\"Empirical Distribution at Day 25 (π(1)=[1,0,0]):\", empirical_dist)"
      ],
      "metadata": {
        "colab": {
          "base_uri": "https://localhost:8080/"
        },
        "id": "UYBa35pfOEGx",
        "outputId": "c8acc5a0-6df8-45d4-af4c-9ac1215c1df6"
      },
      "execution_count": 10,
      "outputs": [
        {
          "output_type": "stream",
          "name": "stdout",
          "text": [
            "Empirical Distribution at Day 25 (π(1)=[1,0,0]): [0.444 0.308 0.248]\n"
          ]
        }
      ]
    },
    {
      "cell_type": "code",
      "source": [
        "# 3. Stationary Distribution\n",
        "\n",
        "def stationary_distribution(p):\n",
        "  eigen_values , eigen_vectors = np.linalg.eig(P.T)\n",
        "  stationary = eigen_vectors[:,np.isclose(eigen_values,1)]\n",
        "  stationary = stationary[:,0]\n",
        "  stationary = stationary / stationary.sum()\n",
        "  return np.real(stationary)\n",
        "\n",
        "\n",
        "pi_stationary = stationary_distribution(P)\n",
        "print(\"Stationary Distribution:\", pi_stationary)"
      ],
      "metadata": {
        "colab": {
          "base_uri": "https://localhost:8080/"
        },
        "id": "DdcB5ln_QElI",
        "outputId": "0cd18fd3-6dcc-4b24-b2e0-d16e8451197e"
      },
      "execution_count": 9,
      "outputs": [
        {
          "output_type": "stream",
          "name": "stdout",
          "text": [
            "Stationary Distribution: [0.45652174 0.2826087  0.26086957]\n"
          ]
        }
      ]
    },
    {
      "cell_type": "code",
      "source": [
        "# 4. Comparison of empirical and theoretical long term behaviour\n",
        "\n",
        "def convergence_days(P , initial_dist , tolerance=1e-10 , max_days=1000):\n",
        "  dist = np.array(initial_dist)\n",
        "  for n in range(1,max_days+1):\n",
        "    dist = dist @ P\n",
        "    if np.all(np.abs(dist - pi_stationary) < tolerance):\n",
        "      return n , dist\n",
        "\n",
        "  return None , dist\n",
        "\n",
        "\n",
        "n_conv , dist_conv = convergence_days(P , [1,0,0])\n",
        "print(\"Convergence day (π(1)=[1,0,0]):\", n_conv)\n"
      ],
      "metadata": {
        "colab": {
          "base_uri": "https://localhost:8080/"
        },
        "id": "JwwqeNLnTbn3",
        "outputId": "2f996c2b-e32a-4018-988e-884c2e4103ff"
      },
      "execution_count": 12,
      "outputs": [
        {
          "output_type": "stream",
          "name": "stdout",
          "text": [
            "Convergence day (π(1)=[1,0,0]): 30\n"
          ]
        }
      ]
    },
    {
      "cell_type": "code",
      "source": [
        "# 5. Repeat for different initial distributions.\n",
        "\n",
        "initial_dists = {\n",
        "\"[1,0,0]\": [1, 0, 0],\n",
        "\"[1/3,1/3,1/3]\": [1/3, 1/3, 1/3],\n",
        "\"[0.5,0.25,0.25]\": [0.5, 0.25, 0.25]\n",
        "}\n",
        "\n",
        "\n",
        "for name, init in initial_dists.items():\n",
        "  emp = empirical_long_term_distribution(P, n_paths=1000, n_days=25, initial_dist=init) # tweak n_paths as required maybe to 10^6 as per question\n",
        "  n_conv, dist_conv = convergence_days(P, init)\n",
        "  print(f\"\\nInitial Distribution {name}:\")\n",
        "  print(\" Empirical (Day 25):\", emp)\n",
        "  print(\" Converges by Day:\", n_conv)\n",
        "  print(\" Distribution at Convergence:\", dist_conv)"
      ],
      "metadata": {
        "colab": {
          "base_uri": "https://localhost:8080/"
        },
        "id": "XOr8RGdrUV5I",
        "outputId": "7b2ffbd1-c3d5-4767-e7f1-d36ed0319809"
      },
      "execution_count": 13,
      "outputs": [
        {
          "output_type": "stream",
          "name": "stdout",
          "text": [
            "\n",
            "Initial Distribution [1,0,0]:\n",
            " Empirical (Day 25): [0.431 0.29  0.279]\n",
            " Converges by Day: 30\n",
            " Distribution at Convergence: [0.45652174 0.2826087  0.26086957]\n",
            "\n",
            "Initial Distribution [1/3,1/3,1/3]:\n",
            " Empirical (Day 25): [0.44  0.285 0.275]\n",
            " Converges by Day: 28\n",
            " Distribution at Convergence: [0.45652174 0.2826087  0.26086957]\n",
            "\n",
            "Initial Distribution [0.5,0.25,0.25]:\n",
            " Empirical (Day 25): [0.477 0.276 0.247]\n",
            " Converges by Day: 27\n",
            " Distribution at Convergence: [0.45652174 0.2826087  0.26086957]\n"
          ]
        }
      ]
    }
  ]
}