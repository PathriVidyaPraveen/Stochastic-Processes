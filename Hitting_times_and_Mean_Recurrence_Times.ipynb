{
  "nbformat": 4,
  "nbformat_minor": 0,
  "metadata": {
    "colab": {
      "provenance": []
    },
    "kernelspec": {
      "name": "python3",
      "display_name": "Python 3"
    },
    "language_info": {
      "name": "python"
    }
  },
  "cells": [
    {
      "cell_type": "code",
      "execution_count": 1,
      "metadata": {
        "id": "5maV83gkatCC"
      },
      "outputs": [],
      "source": [
        "import numpy as np\n",
        "import matplotlib.pyplot as plt"
      ]
    },
    {
      "cell_type": "code",
      "source": [
        "# Transition probability matrix\n",
        "P = np.array([\n",
        "    [0.5, 0.5, 0.0, 0.0],\n",
        "    [0.2, 0.5, 0.3, 0.0],\n",
        "    [0.0, 0.3, 0.4, 0.3],\n",
        "    [0.1, 0.0, 0.4, 0.5]\n",
        "])\n",
        "\n",
        "num_states = P.shape[0]\n",
        "rng = np.random.default_rng(seed=42)\n",
        "\n",
        "# simulate one step of the markov chain\n",
        "\n",
        "def next_state(current , rng):\n",
        "  return rng.choice(num_states, p=P[current])\n",
        "\n"
      ],
      "metadata": {
        "id": "n-Xew--7bPp5"
      },
      "execution_count": 2,
      "outputs": []
    },
    {
      "cell_type": "code",
      "source": [
        "# Part 1 : Hitting time simulation\n",
        "\n",
        "def estimate_hitting_time(num_trails = 100000,start_state=0,end_states=[3]):\n",
        "  hitting_times = []\n",
        "  for _ in range(num_trails):\n",
        "    current_state = start_state\n",
        "    t = 0\n",
        "    while current_state not in end_states:\n",
        "      current_state = next_state(current_state,rng)\n",
        "      t = t + 1\n",
        "    hitting_times.append(t)\n",
        "\n",
        "  return np.mean(hitting_times)\n",
        "\n"
      ],
      "metadata": {
        "id": "UatvNnf4b_Xp"
      },
      "execution_count": 5,
      "outputs": []
    },
    {
      "cell_type": "code",
      "source": [
        "h_1_4 = estimate_hitting_time()\n",
        "print(f\"Estimated E[T1→{{4}}] (h1,4): {h_1_4:.4f}\")"
      ],
      "metadata": {
        "colab": {
          "base_uri": "https://localhost:8080/"
        },
        "id": "NQdJIcZMgg1i",
        "outputId": "cf63899a-db30-4bbe-9c84-b5f7137801d3"
      },
      "execution_count": 6,
      "outputs": [
        {
          "output_type": "stream",
          "name": "stdout",
          "text": [
            "Estimated E[T1→{4}] (h1,4): 14.7015\n"
          ]
        }
      ]
    },
    {
      "cell_type": "code",
      "source": [
        "# Part 2 : Empirical Mean Recurrence Time\n",
        "\n",
        "def estimate_mean_recurrence_time(total_steps=1000000 , target_state=1):\n",
        "  state = target_state\n",
        "  visit_times = [0]\n",
        "\n",
        "  for t in range(1,total_steps+1):\n",
        "    state = next_state(state,rng)\n",
        "    if state == target_state:\n",
        "      visit_times.append(t)\n",
        "\n",
        "\n",
        "  intervals = np.diff(visit_times)\n",
        "  return np.mean(intervals)\n",
        "\n"
      ],
      "metadata": {
        "id": "1upcbjL0gmup"
      },
      "execution_count": 7,
      "outputs": []
    },
    {
      "cell_type": "code",
      "source": [
        "bm2 = estimate_mean_recurrence_time()\n",
        "print(f\"Empirical mean recurrence time for state 2: {bm2:.4f}\")"
      ],
      "metadata": {
        "colab": {
          "base_uri": "https://localhost:8080/"
        },
        "id": "scIQwfRih-vD",
        "outputId": "9f80244b-62a5-4c67-d5c4-eeae0f752389"
      },
      "execution_count": 8,
      "outputs": [
        {
          "output_type": "stream",
          "name": "stdout",
          "text": [
            "Empirical mean recurrence time for state 2: 2.8329\n"
          ]
        }
      ]
    },
    {
      "cell_type": "code",
      "source": [
        "# Part 3 : Stationary distribution and mean recurrence times\n",
        "\n",
        "def stationary_distribution(P):\n",
        "  eigen_values , eigen_vectors = np.linalg.eig(P.T)\n",
        "  stationary_dist = np.real(eigen_vectors[:,np.isclose(eigen_values,1)])\n",
        "  stationary_dist = stationary_dist[:,0]\n",
        "  return stationary_dist / np.sum(stationary_dist)\n",
        "\n"
      ],
      "metadata": {
        "id": "bzV-lATIiFyZ"
      },
      "execution_count": 9,
      "outputs": []
    },
    {
      "cell_type": "code",
      "source": [
        "pi = stationary_distribution(P)\n",
        "m2 = 1 / pi[1]\n",
        "print(f\"Stationary distribution π: {pi}\")\n",
        "print(f\"Theoretical mean recurrence time for state 2: {m2:.4f}\")\n",
        "\n",
        "# Compare\n",
        "print(f\"Comparison -> empirical: {bm2:.4f}, theoretical: {m2:.4f}\")"
      ],
      "metadata": {
        "colab": {
          "base_uri": "https://localhost:8080/"
        },
        "id": "mRH-gym5i5AL",
        "outputId": "52ae5920-98ec-4977-f5aa-cbabcc0b8b4d"
      },
      "execution_count": 12,
      "outputs": [
        {
          "output_type": "stream",
          "name": "stdout",
          "text": [
            "Stationary distribution π: [0.17647059 0.35294118 0.29411765 0.17647059]\n",
            "Theoretical mean recurrence time for state 2: 2.8333\n",
            "Comparison -> empirical: 2.8329, theoretical: 2.8333\n"
          ]
        }
      ]
    }
  ]
}