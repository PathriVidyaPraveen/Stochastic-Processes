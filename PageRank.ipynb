{
  "nbformat": 4,
  "nbformat_minor": 0,
  "metadata": {
    "colab": {
      "provenance": []
    },
    "kernelspec": {
      "name": "python3",
      "display_name": "Python 3"
    },
    "language_info": {
      "name": "python"
    }
  },
  "cells": [
    {
      "cell_type": "code",
      "execution_count": 1,
      "metadata": {
        "id": "x0FKs0dlWpiC"
      },
      "outputs": [],
      "source": [
        "import numpy as np\n",
        "import matplotlib.pyplot as plt\n"
      ]
    },
    {
      "cell_type": "code",
      "source": [
        "# construct the transition matrix P\n",
        "\n",
        "def construct_transition_matrix(n , edges):\n",
        "  P = np.zeros((n,n))\n",
        "  for i in range(1,n+1):\n",
        "    if len(edges.get(i,[])) == 0:\n",
        "      P[i-1 , :] = 1.0/n\n",
        "    else:\n",
        "      for j in edges[i]:\n",
        "        P[i-1,j-1] = 1.0/len(edges[i])\n",
        "\n",
        "  return P\n"
      ],
      "metadata": {
        "id": "NnOD98Z8Wuq9"
      },
      "execution_count": 2,
      "outputs": []
    },
    {
      "cell_type": "code",
      "source": [
        "edges = {\n",
        "    1 : [2,3],\n",
        "    2 : [3,4],\n",
        "    3 : [1,5],\n",
        "    4 : [2,6],\n",
        "    5 : [3 , 6],\n",
        "    6 : [1,4]\n",
        "}\n",
        "\n",
        "# graph is defined as adjacency list\n",
        "\n",
        "n = 6\n",
        "\n",
        "P = construct_transition_matrix(n,edges)\n",
        "print(\"Transition Matrix P:\\n\", P)"
      ],
      "metadata": {
        "colab": {
          "base_uri": "https://localhost:8080/"
        },
        "id": "Nst5AHO3YFcY",
        "outputId": "5daaaf6f-8c71-40a5-cb11-4bb2973d4f34"
      },
      "execution_count": 3,
      "outputs": [
        {
          "output_type": "stream",
          "name": "stdout",
          "text": [
            "Transition Matrix P:\n",
            " [[0.  0.5 0.5 0.  0.  0. ]\n",
            " [0.  0.  0.5 0.5 0.  0. ]\n",
            " [0.5 0.  0.  0.  0.5 0. ]\n",
            " [0.  0.5 0.  0.  0.  0.5]\n",
            " [0.  0.  0.5 0.  0.  0.5]\n",
            " [0.5 0.  0.  0.5 0.  0. ]]\n"
          ]
        }
      ]
    },
    {
      "cell_type": "code",
      "source": [
        "# 2. Form the Google matrix\n",
        "\n",
        "def build_google_matrix(P , alpha):\n",
        "  n = P.shape[0]\n",
        "  Jn = np.ones((n,n))\n",
        "  J = Jn / n\n",
        "  G = alpha*P + (1-alpha)*J\n",
        "  return G\n",
        "\n"
      ],
      "metadata": {
        "id": "gfCSIRCNY8m9"
      },
      "execution_count": 4,
      "outputs": []
    },
    {
      "cell_type": "code",
      "source": [
        "alpha = 0.85\n",
        "G = build_google_matrix(P, alpha)\n",
        "print(\"\\nGoogle Matrix G:\\n\", G)"
      ],
      "metadata": {
        "colab": {
          "base_uri": "https://localhost:8080/"
        },
        "id": "SIzr6VOzZsqI",
        "outputId": "97c67f1a-79d5-4df0-bbf9-22c3b343998c"
      },
      "execution_count": 5,
      "outputs": [
        {
          "output_type": "stream",
          "name": "stdout",
          "text": [
            "\n",
            "Google Matrix G:\n",
            " [[0.025 0.45  0.45  0.025 0.025 0.025]\n",
            " [0.025 0.025 0.45  0.45  0.025 0.025]\n",
            " [0.45  0.025 0.025 0.025 0.45  0.025]\n",
            " [0.025 0.45  0.025 0.025 0.025 0.45 ]\n",
            " [0.025 0.025 0.45  0.025 0.025 0.45 ]\n",
            " [0.45  0.025 0.025 0.45  0.025 0.025]]\n"
          ]
        }
      ]
    },
    {
      "cell_type": "code",
      "source": [
        "# 3. Compute the PageRank vector π by Power Iteration\n",
        "\n",
        "def pagerank_power_iteration(G , tolerance = 1e-10 , max_iterations = 10000):\n",
        "  n = G.shape[0]\n",
        "  pi = np.ones(n)/n\n",
        "  for k in range(max_iterations):\n",
        "    new_pi = pi @ G\n",
        "    if np.linalg.norm(new_pi - pi , 1) < tolerance:\n",
        "      print(f\"Converged in {k+1} iterations.\")\n",
        "      return new_pi / new_pi.sum()\n",
        "\n",
        "    pi = new_pi\n",
        "  print(\"Warning: power iteration did not converge within max_iter\")\n",
        "  return pi / pi.sum()"
      ],
      "metadata": {
        "id": "tHj4PGT0Z24G"
      },
      "execution_count": 6,
      "outputs": []
    },
    {
      "cell_type": "code",
      "source": [
        "pi_power_iteration = pagerank_power_iteration(G)\n",
        "print(\"\\nPageRank (Power Iteration):\", pi_power_iteration)"
      ],
      "metadata": {
        "colab": {
          "base_uri": "https://localhost:8080/"
        },
        "id": "R_X3AvqtbcNw",
        "outputId": "bd9bffdb-8836-4cf1-c675-2de7ca428cf7"
      },
      "execution_count": 7,
      "outputs": [
        {
          "output_type": "stream",
          "name": "stdout",
          "text": [
            "Converged in 51 iterations.\n",
            "\n",
            "PageRank (Power Iteration): [0.18200033 0.16953459 0.22581522 0.15808107 0.12097147 0.14359733]\n"
          ]
        }
      ]
    },
    {
      "cell_type": "code",
      "source": [
        "# 3. Compute the PageRank vector π by Linear System\n",
        "\n",
        "def pagerank_linear_system(G):\n",
        "  n = G.shape[0]\n",
        "  # Solve (G^T - I)x = 0 with sum constraint\n",
        "  A = G.T - np.eye(n)\n",
        "  # Add the normalization constraint sum(pi)=1\n",
        "  A = np.vstack([A , np.ones(n)])\n",
        "  b = np.zeros(n+1)\n",
        "  b[-1] = 1\n",
        "  # Least squares solution\n",
        "  pi , *_ = np.linalg.lstsq(A , b , rcond=None)\n",
        "  return pi\n"
      ],
      "metadata": {
        "id": "fT-s4d9WbuSo"
      },
      "execution_count": 8,
      "outputs": []
    },
    {
      "cell_type": "code",
      "source": [
        "pi_linear_system = pagerank_linear_system(G)\n",
        "print(\"\\nPageRank (Linear System):\", pi_linear_system)"
      ],
      "metadata": {
        "colab": {
          "base_uri": "https://localhost:8080/"
        },
        "id": "GpX5zmCZcg9p",
        "outputId": "005041d8-3630-4ef1-e573-102b4382b687"
      },
      "execution_count": 9,
      "outputs": [
        {
          "output_type": "stream",
          "name": "stdout",
          "text": [
            "\n",
            "PageRank (Linear System): [0.18200033 0.16953459 0.22581522 0.15808107 0.12097147 0.14359733]\n"
          ]
        }
      ]
    },
    {
      "cell_type": "code",
      "source": [
        "print(\"\\nDifference between methods:\", np.linalg.norm(pi_power_iteration - pi_linear_system, 1))"
      ],
      "metadata": {
        "colab": {
          "base_uri": "https://localhost:8080/"
        },
        "id": "Uwodefe2cuI3",
        "outputId": "8da4f738-9e64-4d23-9695-7a036b5b6079"
      },
      "execution_count": 10,
      "outputs": [
        {
          "output_type": "stream",
          "name": "stdout",
          "text": [
            "\n",
            "Difference between methods: 3.752960442415798e-11\n"
          ]
        }
      ]
    }
  ]
}