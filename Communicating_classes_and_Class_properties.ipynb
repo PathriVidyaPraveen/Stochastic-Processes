{
  "nbformat": 4,
  "nbformat_minor": 0,
  "metadata": {
    "colab": {
      "provenance": []
    },
    "kernelspec": {
      "name": "python3",
      "display_name": "Python 3"
    },
    "language_info": {
      "name": "python"
    }
  },
  "cells": [
    {
      "cell_type": "code",
      "execution_count": 1,
      "metadata": {
        "id": "Cv4GBghYkCTg"
      },
      "outputs": [],
      "source": [
        "import numpy as np\n",
        "import matplotlib.pyplot as plt"
      ]
    },
    {
      "cell_type": "code",
      "source": [
        "# P = transition probability matrix\n",
        "\n",
        "P = np.array([\n",
        "    [0,   0.5, 0.5, 0,   0,   0],\n",
        "    [0.2, 0,   0.8, 0,   0,   0],\n",
        "    [0,   0,   0,   0.5, 0.5, 0],\n",
        "    [0,   0,   0,   0,   0.4, 0.6],\n",
        "    [0,   0,   0,   0.5, 0,   0.5],\n",
        "    [0,   0,   0,   0.3, 0.7, 0]\n",
        "])\n",
        "\n",
        "n_states = P.shape[0]\n",
        "rng = np.random.default_rng(seed=42)\n"
      ],
      "metadata": {
        "id": "unuXKngCkgDM"
      },
      "execution_count": 2,
      "outputs": []
    },
    {
      "cell_type": "code",
      "source": [
        "# Simulate one trajectory\n",
        "\n",
        "def simulate_trajectory(start_state,trajectory_length):\n",
        "  path = [start_state]\n",
        "  state = start_state\n",
        "  for _ in range(trajectory_length):\n",
        "    state = rng.choice(n_states,p=P[state])\n",
        "    path.append(state)\n",
        "\n",
        "  return path\n",
        "\n"
      ],
      "metadata": {
        "id": "WEsiizc2lqtF"
      },
      "execution_count": 3,
      "outputs": []
    },
    {
      "cell_type": "code",
      "source": [
        "# Part 1 : Communicating classes\n",
        "\n",
        "def empirical_reachability(N=500,T=10):\n",
        "  R = np.zeros((n_states,n_states),dtype=int)\n",
        "\n",
        "  for i in range(n_states):\n",
        "    for _ in range(N):\n",
        "      path = simulate_trajectory(i,T)\n",
        "      for j in set(path):\n",
        "        R[i,j] = 1\n",
        "\n",
        "  return R\n",
        "\n",
        "\n",
        "def find_communicating_classes(R):\n",
        "  visited = set()\n",
        "  classes = []\n",
        "\n",
        "  for i in range(n_states):\n",
        "    if i in visited:\n",
        "      continue\n",
        "    cls = {j for j in range(n_states) if R[i,j] == 1 and R[j,i] == 1}\n",
        "    visited |= cls\n",
        "    classes.append(cls)\n",
        "\n",
        "\n",
        "  return classes"
      ],
      "metadata": {
        "id": "6YmXwTQ9mkRT"
      },
      "execution_count": 4,
      "outputs": []
    },
    {
      "cell_type": "code",
      "source": [
        "R = empirical_reachability()\n",
        "plt.figure(figsize=(6,6))\n",
        "plt.imshow(R , cmap='Blues' , interpolation='nearest')\n",
        "\n",
        "for i in range(R.shape[0]):\n",
        "  for j in range(R.shape[1]):\n",
        "    plt.text(j,i,R[i,j],ha='center',va='center',color='white' if R[i,j] else 'black')\n",
        "\n",
        "plt.title(\"Empirical Reachability Matrix\")\n",
        "plt.xlabel(\"To state j\")\n",
        "plt.ylabel(\"From state i\")\n",
        "plt.xticks(range(n_states), [f\"{j+1}\" for j in range(n_states)])\n",
        "plt.yticks(range(n_states), [f\"{i+1}\" for i in range(n_states)])\n",
        "plt.colorbar(label=\"Reachability (0=No, 1=Yes)\")\n",
        "plt.show()"
      ],
      "metadata": {
        "colab": {
          "base_uri": "https://localhost:8080/",
          "height": 513
        },
        "id": "_b2vjbeuoJ8m",
        "outputId": "8755aab4-a397-4ac7-a4ea-815ad667fde6"
      },
      "execution_count": 5,
      "outputs": [
        {
          "output_type": "display_data",
          "data": {
            "text/plain": [
              "<Figure size 600x600 with 2 Axes>"
            ],
            "image/png": "[encoded data removed]"
          },
          "metadata": {}
        }
      ]
    },
    {
      "cell_type": "code",
      "source": [
        "classes = find_communicating_classes(R)\n",
        "print(\"\\nCommunicating Classes (0-based states):\")\n",
        "for idx, cls in enumerate(classes, 1):\n",
        "  print(f\"Class {idx}: {sorted(list(cls))}\")"
      ],
      "metadata": {
        "colab": {
          "base_uri": "https://localhost:8080/"
        },
        "id": "pz9Jsw1rpObE",
        "outputId": "202bdb51-4545-4905-ea89-3592afcdecd1"
      },
      "execution_count": 6,
      "outputs": [
        {
          "output_type": "stream",
          "name": "stdout",
          "text": [
            "\n",
            "Communicating Classes (0-based states):\n",
            "Class 1: [0, 1]\n",
            "Class 2: [2]\n",
            "Class 3: [3, 4, 5]\n"
          ]
        }
      ]
    },
    {
      "cell_type": "code",
      "source": [
        "# Part 2 : Empirical verification of transience or recurrence\n",
        "\n",
        "def classify_states(N=500,T=100):\n",
        "  classification = {}\n",
        "\n",
        "  for i in range(n_states):\n",
        "    returns = 0\n",
        "    for _ in range(N):\n",
        "      path = simulate_trajectory(i,T)\n",
        "      if i in path[1:]:\n",
        "        returns += 1\n",
        "    f_i = returns/N\n",
        "    classification[i] = \"recurrent\" if np.isclose(f_i,1.0) else \"transient\"\n",
        "\n",
        "  return classification\n",
        "\n"
      ],
      "metadata": {
        "id": "5iuawZGEqvrT"
      },
      "execution_count": 7,
      "outputs": []
    },
    {
      "cell_type": "code",
      "source": [
        "classification = classify_states()\n",
        "print(\"\\nEmpirical Classification of States:\")\n",
        "for s , c in classification.items():\n",
        "  print(f\"State {s+1}: {c}\")"
      ],
      "metadata": {
        "colab": {
          "base_uri": "https://localhost:8080/"
        },
        "id": "87P7e3jWsBf8",
        "outputId": "0874d79f-7a79-4dfd-ddc8-fc49ac97b841"
      },
      "execution_count": 8,
      "outputs": [
        {
          "output_type": "stream",
          "name": "stdout",
          "text": [
            "\n",
            "Empirical Classification of States:\n",
            "State 1: transient\n",
            "State 2: transient\n",
            "State 3: transient\n",
            "State 4: recurrent\n",
            "State 5: recurrent\n",
            "State 6: recurrent\n"
          ]
        }
      ]
    },
    {
      "cell_type": "code",
      "source": [
        "# Part 3 : Verification of Class properties\n",
        "\n",
        "def verify_class_properties(classes,classification):\n",
        "  results = {}\n",
        "  for idx , cls in enumerate(classes,1):\n",
        "    labels = {classification[s] for s in cls}\n",
        "    results[f\"Class {idx}\"] = labels\n",
        "\n",
        "  return results\n",
        "\n"
      ],
      "metadata": {
        "id": "73dRo8JksOgK"
      },
      "execution_count": 9,
      "outputs": []
    },
    {
      "cell_type": "code",
      "source": [
        "results = verify_class_properties(classes, classification)\n",
        "print(\"\\nClass Properties Verification:\")\n",
        "for cls, labels in results.items():\n",
        "  print(f\"{cls}: {labels}\")"
      ],
      "metadata": {
        "colab": {
          "base_uri": "https://localhost:8080/"
        },
        "id": "5UbhIhTas3fG",
        "outputId": "a9ec4d1f-f058-468a-c1f8-a71d628aa221"
      },
      "execution_count": 10,
      "outputs": [
        {
          "output_type": "stream",
          "name": "stdout",
          "text": [
            "\n",
            "Class Properties Verification:\n",
            "Class 1: {'transient'}\n",
            "Class 2: {'transient'}\n",
            "Class 3: {'recurrent'}\n"
          ]
        }
      ]
    }
  ]
}